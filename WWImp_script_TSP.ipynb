{
  "nbformat": 4,
  "nbformat_minor": 0,
  "metadata": {
    "colab": {
      "name": "WWImp_script_TSP.ipynb",
      "provenance": [],
      "collapsed_sections": [],
      "toc_visible": true
    },
    "kernelspec": {
      "name": "python3",
      "display_name": "Python 3"
    },
    "language_info": {
      "name": "python"
    }
  },
  "cells": [
    {
      "cell_type": "markdown",
      "source": [
        "### 0. Installing necessary packages"
      ],
      "metadata": {
        "id": "3-hp13lUAsDb"
      }
    },
    {
      "cell_type": "code",
      "source": [
        "!pip install networkx\n",
        "!pip install geopandas\n",
        "!pip install osmnx\n",
        "!pip install pulp"
      ],
      "metadata": {
        "id": "3DDI0Vz69CEu"
      },
      "execution_count": null,
      "outputs": []
    },
    {
      "cell_type": "markdown",
      "source": [
        "> After the code block above finished running, you will need to re-start the run time (Runtime -> Restart runtime). After that, you can proceed with the next code blocks."
      ],
      "metadata": {
        "id": "wezjWtUf80sv"
      }
    },
    {
      "cell_type": "code",
      "source": [
        "# import packages\n",
        "import pandas as pd\n",
        "import geopandas as gpd\n",
        "import networkx as nx\n",
        "import osmnx as ox\n",
        "import matplotlib.pyplot as plt\n",
        "import numpy as np\n",
        "from pulp import *"
      ],
      "metadata": {
        "id": "n3kfieZJ9LS7"
      },
      "execution_count": null,
      "outputs": []
    },
    {
      "cell_type": "markdown",
      "source": [
        "### 1. Open Street Maps\n",
        "In this use case, we make use of Open Street Maps (OSM) to create and analyze real-world street networks. Since we are on a truck, we will be downloading a network with drivable routes in the heart of Amsterdam.\n",
        "https://www.openstreetmap.org/"
      ],
      "metadata": {
        "id": "JIef4_hX9V3o"
      }
    },
    {
      "cell_type": "code",
      "source": [
        "### create graph with a location name\n",
        "place = \"Amsterdam\"\n",
        "# Transportation mode\n",
        "mode = \"drive\"\n",
        "# Create network graph\n",
        "G = ox.graph_from_address(place, dist=3000, simplify=True, network_type=mode)    # 3000 meters\n",
        "# Plot the network graph\n",
        "fig, ax = ox.plot_graph(G);\n",
        "plt.tight_layout()\n",
        "plt.show()"
      ],
      "metadata": {
        "id": "kpbxM-7y9Qzr"
      },
      "execution_count": null,
      "outputs": []
    },
    {
      "cell_type": "code",
      "source": [
        "### create graph with latitude & longitude\n",
        "coordinates = (52.3372232, 4.8729058)   # Accenture ITO Office\n",
        "# Transportation mode\n",
        "mode = \"drive\"\n",
        "# create network graph\n",
        "G_from_coordinates = ox.graph_from_point(coordinates, dist=3000, simplify=True, network_type=mode)\n",
        "# Plot the network graph\n",
        "fig, ax = ox.plot_graph(G_from_coordinates);\n",
        "plt.tight_layout()\n",
        "plt.show()"
      ],
      "metadata": {
        "id": "GWMjhzQa9bFJ"
      },
      "execution_count": null,
      "outputs": []
    },
    {
      "cell_type": "markdown",
      "source": [
        "#### Network Properties"
      ],
      "metadata": {
        "id": "8MJCqc4o-Q-b"
      }
    },
    {
      "cell_type": "code",
      "source": [
        "# number of nodes and edges\n",
        "print('Number of nodes:', len(G.nodes))\n",
        "print('Number of edges:', len(G.edges))"
      ],
      "metadata": {
        "id": "e0YcysqC9bKh"
      },
      "execution_count": null,
      "outputs": []
    },
    {
      "cell_type": "code",
      "source": [
        "# View all nodes\n",
        "G.nodes()"
      ],
      "metadata": {
        "id": "zjSq7Mn1-Iku"
      },
      "execution_count": null,
      "outputs": []
    },
    {
      "cell_type": "code",
      "source": [
        "# View all edges (for undirected graphs)\n",
        "G.edges()"
      ],
      "metadata": {
        "id": "_dXGMMkuIZ9h"
      },
      "execution_count": null,
      "outputs": []
    },
    {
      "cell_type": "code",
      "source": [
        "# View both in- and out-edges (for directed graphs)\n",
        "node = '***'\n",
        "print('in edges:', G.in_edges(node))\n",
        "print('out edges:', G.out_edges(node))"
      ],
      "metadata": {
        "id": "clNQ3VTMEH8E"
      },
      "execution_count": null,
      "outputs": []
    },
    {
      "cell_type": "code",
      "source": [
        "# get attributes related to two nodes\n",
        "G.get_edge_data('***', '***')"
      ],
      "metadata": {
        "id": "t21Rk7ohIFST"
      },
      "execution_count": null,
      "outputs": []
    },
    {
      "cell_type": "markdown",
      "source": [
        "#### Try it yourself"
      ],
      "metadata": {
        "id": "NYSJf4_z-jXU"
      }
    },
    {
      "cell_type": "code",
      "source": [
        "# 1. Find the coordinates of the node ID 46484771\n",
        "\n",
        "### PUT YOUR CODE HERE ###"
      ],
      "metadata": {
        "id": "WcYJtYqt-lLt"
      },
      "execution_count": null,
      "outputs": []
    },
    {
      "cell_type": "code",
      "source": [
        "# 2. How many streets connected to node 46294809 is one-way?\n",
        "\n",
        "### PUT YOUR CODE HERE ###"
      ],
      "metadata": {
        "id": "ZBwyKgdFIkLg"
      },
      "execution_count": null,
      "outputs": []
    },
    {
      "cell_type": "code",
      "source": [
        "# 3. What is the maximum speed and street name(s) between nodes 46308817 and 46310809?\n",
        "\n",
        "### PUT YOUR CODE HERE ###"
      ],
      "metadata": {
        "id": "30wkSkAy-w9a"
      },
      "execution_count": null,
      "outputs": []
    },
    {
      "cell_type": "code",
      "source": [
        ""
      ],
      "metadata": {
        "id": "gdYKXz9M_IuA"
      },
      "execution_count": null,
      "outputs": []
    },
    {
      "cell_type": "markdown",
      "source": [
        "### 2. Data Munipulation\n",
        "Since the open street map only provides the distance between two nodes, the main goal of this section is to get the **traveling time** using columns **length** (in meters) and **maxspeed** (in km/h).\n",
        "\n",
        "\n",
        "Handling the **maxspeed** column:\n",
        "*   It is possible that, for some edges, the maximum speed is a list containing multiple values. In this case, **we will take the minimum speed**.\n",
        "*   If the maximum speed is a null value, we will need to perform unit imputation. For simplicity, we assume the value to be **30 (km/h)**.\n",
        "\n",
        "\n",
        "Also, bear in mind - although there is a maximum speed column in graph object, in real world situations traffic can never reach the maximum speed. Therefore, We will need to create a column as an approximated average speed so we could calculate the traveling time between two nodes.\n",
        "\n",
        "<div>\n",
        "<img src=\"https://www.researchgate.net/publication/332660949/figure/fig5/AS:751781516677120@1556250089722/Map-of-average-traffic-speeds-in-central-Amsterdam-Source-Spotzi.png\" width=\"600\">\n",
        "</div>\n",
        "\n",
        "\n",
        "*Source: researchgate.net/figure/Map-of-average-traffic-speeds-in-central-Amsterdam-Source-Spotzi_fig5_332660949*"
      ],
      "metadata": {
        "id": "bGTfDUHg_JBP"
      }
    },
    {
      "cell_type": "code",
      "source": [
        "# get geoDF of nodes and edges\n",
        "nodes, edges = ox.graph_to_gdfs(G)"
      ],
      "metadata": {
        "id": "mK0GkthF_OxW"
      },
      "execution_count": null,
      "outputs": []
    },
    {
      "cell_type": "code",
      "source": [
        "# print the first 5 rows of the nodes df\n",
        "nodes.head()"
      ],
      "metadata": {
        "id": "5jZJzUd-Ac_7"
      },
      "execution_count": null,
      "outputs": []
    },
    {
      "cell_type": "code",
      "source": [
        "# print the first 5 rows of the edges df\n",
        "edges.head()"
      ],
      "metadata": {
        "id": "dz6NqPWyAlpw"
      },
      "execution_count": null,
      "outputs": []
    },
    {
      "cell_type": "code",
      "source": [
        "# for some rows, a list (e.g. [30, 50]) is stored in maxspeed column. choose the min in the list\n",
        "edges['maxspeed'] = [min(np.array(i).astype(int)) if type(i)==list else i for i in edges['maxspeed']]\n",
        "\n",
        "# assume max speed is 30 km/h\n",
        "edges['maxspeed'] = [30 if pd.isnull(i) else int(i) for i in edges['maxspeed']]\n",
        "\n",
        "#  calculate the average speed given the maximum\n",
        "edges['avg_speed'] = [15 if pd.isnull(i) else \\\n",
        "                      15 if int(i) == 30 else \\\n",
        "                      30 if int(i) == 50 else \\\n",
        "                      int(i) for i in edges['maxspeed']\n",
        "                      ]\n",
        " \n",
        "# calculate the no. of minutes required to pass through the path (length devided by speed)\n",
        "edges['time_minutes'] = (edges['length'] / 1000) / edges['avg_speed'] * 60"
      ],
      "metadata": {
        "id": "HnKtwo4dApLl"
      },
      "execution_count": null,
      "outputs": []
    },
    {
      "cell_type": "code",
      "source": [
        "# inspect the edges df and new columns\n",
        "edges[['length', 'maxspeed', 'avg_speed', 'time_minutes']]"
      ],
      "metadata": {
        "id": "eSSdNTPeCHVM"
      },
      "execution_count": null,
      "outputs": []
    },
    {
      "cell_type": "code",
      "source": [
        "# create network graphs from updated nodes and edges\n",
        "G = ox.graph_from_gdfs(nodes, edges)"
      ],
      "metadata": {
        "id": "Y1U6mNSDCW-H"
      },
      "execution_count": null,
      "outputs": []
    },
    {
      "cell_type": "code",
      "source": [
        ""
      ],
      "metadata": {
        "id": "P8hySxlBCZfn"
      },
      "execution_count": null,
      "outputs": []
    },
    {
      "cell_type": "markdown",
      "source": [
        "### 3. Linear Programming and Travel Salesman Problem (TSP)\n",
        "\n",
        "#### **Linear Programming**\n",
        "Linear programming is an optimization technique given a system of linear constraints and a linear objective. It is the most common type of mathematical programming model, and is widely used in industries such as transportation, telecommunications, energy, and manufacturing for planning, scheduling, routing and other resource-dependent use cases.\n",
        "\n",
        "![picture](https://drive.google.com/uc?id=1Wa38aybLG5vFZjUPEY2WJyrIh8qjii-E)\n",
        "\n",
        "When you construct a linear programming problem, there are three things you need to define:\n",
        "* **Decision Variables**. The values to be computed by the solvers.\n",
        "* **Objective function**. An objective that you want to optimize (i.e. maximize or minimize).\n",
        "* **Constraints**. The restrictions of the model / scarcity of resources.\n",
        "\n",
        "\n",
        "> From a practical point of view, what are the objective and constraints?\n",
        "\n",
        "\n",
        "\n",
        "#### **Travel Salesman Problem**\n",
        "Travel Salesman Problem, or TSP, is a special type of linear programming problems that are considered computationally expensive (see table) and requires [heuristics](https://en.wikipedia.org/wiki/Heuristic). It is an important topic in the field of operational research and route optimization, and is generalized to other optimization formulations such as the vehicle routing problem.\n",
        "\n",
        "\n",
        "Here you can see the number of possible combinations given *n* locations (in an *undirected graph*).\n",
        "\n",
        "| # locations | # Possible combinations |\n",
        "| --- | --- |\n",
        "| 3 | 2! = 2 |\n",
        "| 4 | 3! = 6 |\n",
        "| 5 | 24 |\n",
        "| 6 | 120 |\n",
        "| 7 | 720 |\n",
        "| 8 | 5040 |\n",
        "| 9  | 40320 |\n",
        "| 10  |362880 |\n",
        "| 11  |3628800 |\n",
        "| 12 |39916800 |\n",
        "| 13 |479001600 | \n",
        "| 14 |6227020800 |\n",
        "| ... | |\n",
        "\n",
        "Another important thing to consider in the problem formulation is the **sub-route elimination**. The main goal of the truck is to go through an complete route - from origin to destination - in one big loop, without an sub-tours in the solution (our truck cannot teleport!). \n",
        "\n",
        "Something we want to avoid:\n",
        "<div>\n",
        "   <img src=\"https://how-to.aimms.com/_images/Subtour.png\" width=\"700\">\n",
        "</div>\n",
        "\n",
        "*Source: https://how-to.aimms.com/Articles/332/332-Miller-Tucker-Zemlin-formulation.html*\n",
        "\n",
        "In our use case, we used the Miller Tucker Zemlin formulation to ensure one complete route is returned, rather than an union of several sub routes.\n",
        "\n",
        "\n"
      ],
      "metadata": {
        "id": "NcGloMRhCZ43"
      }
    },
    {
      "cell_type": "markdown",
      "source": [
        "\n",
        "#### Delivery Information"
      ],
      "metadata": {
        "id": "-wJzTW_3cRuJ"
      }
    },
    {
      "cell_type": "code",
      "source": [
        "# delivery locations - RAMEN!\n",
        "addresses = [\n",
        "             (52.3638643, 4.9344159),   # Betsubara Japanese Kitchen - Oost\n",
        "             (52.3575133, 4.8995665),   # Fou Fow Ramen van Woustraat\n",
        "             (52.3478993, 4.8915300),   # Takumi Ramen & Yakisoba\n",
        "             (52.3871539, 4.9254829),   # Little Saigon Noord\n",
        "             (52.3788579, 4.8850906),   # HINATA AMSTERDAM\n",
        "             (52.3661336, 4.8983335),   # wagamama Rembrandtplein\n",
        "             (52.3766845, 4.9015363),   # Ramen-Kingdom\n",
        "             (52.3720887, 4.8957213),   # Ramen-ya\n",
        "             (52.3676046, 4.8730433)    # OTEMBA Ramen\n",
        "             ]\n",
        "\n",
        "# specify start and end points\n",
        "breakdown_coordinates = (52.36355, 4.87031)\n",
        "service_point_coordinates = (52.36636, 4.92165)\n",
        "\n",
        "# for simplicity, get the closest node in the map as the drop off point\n",
        "all_locations_coordinates = [breakdown_coordinates] + addresses + [service_point_coordinates]\n",
        "all_locations = [ox.nearest_nodes(G, coord[1], coord[0]) for coord in all_locations_coordinates]\n",
        "breakdown = all_locations[0]\n",
        "service_point = all_locations[-1]\n",
        "\n",
        "# create a colour map\n",
        "colour_map = ['blue' if i in all_locations[1:-1] else \\\n",
        "              'red' if i == breakdown else \\\n",
        "              'yellow' if i == service_point else \\\n",
        "              'grey' for i in list(G.nodes())\n",
        "              ]\n",
        "\n",
        "# node size\n",
        "node_size = [200 if i in all_locations else \\\n",
        "             10 for i in list(G.nodes())\n",
        "             ]\n",
        "\n",
        "# plot coloured network\n",
        "fig, ax = ox.plot_graph(\n",
        "    G, node_color = colour_map, node_size = node_size\n",
        ")"
      ],
      "metadata": {
        "id": "PQADN_tdChQH"
      },
      "execution_count": null,
      "outputs": []
    },
    {
      "cell_type": "code",
      "source": [
        "# create travel time matrix (in minutes)\n",
        "time_matrix = []\n",
        "\n",
        "for i, origin_node in enumerate(all_locations):\n",
        "  matrix_row = []\n",
        "  for j, dest_node in enumerate(all_locations):\n",
        "    # calculate the shortest path (Dijkstra's algorithm)\n",
        "    time = nx.shortest_path_length(G, source=all_locations[i], target=all_locations[j], weight='time_minutes')\n",
        "    matrix_row.append(time)\n",
        "  time_matrix.append(matrix_row)\n",
        "\n",
        "time_matrix = np.array(time_matrix)\n",
        "print(np.round(time_matrix,1))"
      ],
      "metadata": {
        "id": "Ak9M67nVFPnC"
      },
      "execution_count": null,
      "outputs": []
    },
    {
      "cell_type": "markdown",
      "source": [
        "#### Cost Matrix Adjustment \n",
        "**Cost Matrix Adjustment - Closed loop TSP**\n",
        "\n",
        "In a classical TSP, the 'salesman' travels to all locations once without revisiting and eventually return to the original starting point. However, that is not applicable in our case, since we started in the coordinates where the cooler broke down and ended in the warehouse. Therefore, we need to have some adjustments to the cost matrix.\n",
        "\n",
        "\n",
        "![picture](https://upload.wikimedia.org/wikipedia/commons/thumb/1/11/GLPK_solution_of_a_travelling_salesman_problem.svg/330px-GLPK_solution_of_a_travelling_salesman_problem.svg.png)\n",
        "\n",
        "We reduced the 11x11 matrix to 10x10 by:\n",
        "\n",
        "\n",
        "1.   Removing 'Destination' in the row\n",
        "2.   Removing 'Origin' in the column\n",
        "3.   Moving the 'Destination' to the first column.\n",
        "\n",
        "By doing so, the origin and destination both have an index 0; when TSP solves the problem, index 0 will serve as a proxy and therefore a close loop can be reached.\n",
        "![picture](https://drive.google.com/uc?id=1GeoWDiZ4BL3VL9gEJwjkQs_gIomk80Z8)\n",
        "\n",
        "**Cost Matrix Adjustment - Drop off time**\n",
        "\n",
        "Also, we need to take into account the time we need to drop off goods at every location. Some locations might be centrally location, but it takes a significant amount of time to complete delivery. In that case, it might be ideal to deliver to other locations given the time constraint. Therefore, we add the drop off time into the cost matrix."
      ],
      "metadata": {
        "id": "AuliIGl5Q5kG"
      }
    },
    {
      "cell_type": "markdown",
      "source": [
        "#### Main TSP model\n",
        "With the time matrix, we can finally create the TSP model and attempt to find the optimal path."
      ],
      "metadata": {
        "id": "JI9r1t5achmY"
      }
    },
    {
      "cell_type": "code",
      "source": [
        "def solve_tsp (time_matrix, time_limit, drop_off_time_vector = None):\n",
        "  \"\"\" Given a time cost matrix, the remaining time and optionally a drop off time vector, the function returns a PuLP model and the decision variables \n",
        "  \"\"\"\n",
        "  # adjusting cost matrix - We will use this in the algorithm (see explanation below)\n",
        "  cost_matrix = np.array(time_matrix)\n",
        "  cost_matrix = np.delete(cost_matrix, -1, 0)      # remove last row (from destination)\n",
        "  cost_matrix = np.delete(cost_matrix, 0, 1)       # remove first column (to origin)\n",
        "  cost_matrix = np.roll(cost_matrix, 1, axis=1)    # move last column to the first row\n",
        "\n",
        "  # get number of locations\n",
        "  location_count = len(cost_matrix)\n",
        "\n",
        "  if drop_off_time_vector is not None:\n",
        "    # shape the vector into the same shape as the cost matrix\n",
        "      drop_off_time_matrix = [[0] + drop_off_time_vector] * location_count\n",
        "      cost_matrix = cost_matrix + np.array(drop_off_time_matrix)\n",
        "  \n",
        "  # define model\n",
        "  model = LpProblem('tsp', LpMaximize)\n",
        "\n",
        "  # define variables\n",
        "  x = LpVariable.dicts(\"x\",((i,j) for i in range(location_count) for j in range(location_count)), cat='Binary')\n",
        "\n",
        "  # add objective function (-1 to exclude destination)\n",
        "  model += (\n",
        "      lpSum(x[i,j]  for i in range(location_count) for j in range(location_count)) - 1,\n",
        "      \"Sum of locations\",\n",
        "  )\n",
        "\n",
        "  # constraints - time limit (in minutes) - with drop-off\n",
        "  model += (\n",
        "      lpSum([cost_matrix[i,j] * x[i,j] for i in range(location_count) for j in range(location_count)]) <= time_limit,\n",
        "      \"Time limit\"\n",
        "  )\n",
        "\n",
        "  # constraint - origin\n",
        "  model += (\n",
        "      lpSum([x[0,j] for j in range(location_count)]) == 1,\n",
        "      \"Constraint for origin - 1 path leaving 0\"\n",
        "  )\n",
        "\n",
        "  # constraint - destination\n",
        "  model += (\n",
        "      lpSum([x[i,0] for i in range(location_count)]) == 1,\n",
        "      \"Constraint for destination\"\n",
        "  )\n",
        "\n",
        "  # constraint - each location should only be visited max. once\n",
        "  for j in range(1, location_count):\n",
        "    model += lpSum(x[i,j] for i in range(location_count)) <= 1\n",
        "\n",
        "  for i in range(1,location_count):\n",
        "    # constraints - cannot visit itself\n",
        "    model += x[i,i] == 0    \n",
        "    # constraints - entering and leaving a location\n",
        "    model += lpSum(x[i,j] for j in range(location_count)) == lpSum(x[c,i] for c in range(location_count))\n",
        "\n",
        "  # subroute elimination variable\n",
        "  u = LpVariable.dicts(\"u\", (i for i in range(location_count)), lowBound=1, upBound=location_count)\n",
        "\n",
        "  # eliminate subtour\n",
        "  for i in range(location_count):\n",
        "      for j in range(location_count):\n",
        "          if i!=j and (i!=0 and j!=0):\n",
        "              model += u[j] >= u[i] + 1 - 100*(1-x[i,j])\n",
        "\n",
        "  # solve model\n",
        "  status = model.solve()\n",
        "  print('Status:',LpStatus[status], '\\nObjective:', value(model.objective))\n",
        "\n",
        "  # print the total time needed\n",
        "  total_time = sum([cost_matrix[i,j] * value(x[i,j]) \\\n",
        "                    for i in range(location_count) \\\n",
        "                    for j in range(location_count)]\n",
        "                  )\n",
        "  print('Total Time Required: {} minutes.'.format(total_time))\n",
        "\n",
        "  return model, x"
      ],
      "metadata": {
        "id": "Cox3DFl8FYzX"
      },
      "execution_count": null,
      "outputs": []
    },
    {
      "cell_type": "code",
      "source": [
        "# solve tsp and get the solution WITHOUT drop off time\n",
        "model, variables = solve_tsp(time_matrix, time_limit = 70)"
      ],
      "metadata": {
        "id": "_gYggi4cuFi_"
      },
      "execution_count": null,
      "outputs": []
    },
    {
      "cell_type": "code",
      "source": [
        "# solve tsp and get the solution WITH drop off time\n",
        "drop_off_time_vector = [5, 10, 15, 5, 10, 15, 5, 10, 15]\n",
        "model, variables = solve_tsp(time_matrix, time_limit = 70, drop_off_time_vector = drop_off_time_vector)"
      ],
      "metadata": {
        "id": "adhM5_nl5jd-"
      },
      "execution_count": null,
      "outputs": []
    },
    {
      "cell_type": "markdown",
      "source": [
        "#### Visualization"
      ],
      "metadata": {
        "id": "fGes4xcM1u5a"
      }
    },
    {
      "cell_type": "code",
      "source": [
        ""
      ],
      "metadata": {
        "id": "G26rtash56Fq"
      },
      "execution_count": null,
      "outputs": []
    },
    {
      "cell_type": "code",
      "source": [
        "def get_optimal_route(all_locations, variables):\n",
        "  \"\"\" Given the decision variables, this function generates an ordered optimal route \"\"\"\n",
        "\n",
        "  # get location count\n",
        "  location_count = len(all_locations)\n",
        "\n",
        "  # create column label of adjusted cost matrix\n",
        "  col_labels = [\"destination\"] + list(range(1, location_count-1)) \n",
        "\n",
        "  # get all the travelling pairs\n",
        "  route = [(i, j) for i in range(location_count-1) for j in range(location_count-1) if value(variables[i,j])==1]\n",
        "\n",
        "  # get the full list of routes\n",
        "  dct = {x:y for x,y in route}\n",
        "  ordered_route = ['origin']\n",
        "  val = 0\n",
        "\n",
        "  while True:\n",
        "    val = dct[val]\n",
        "    ordered_route.append(col_labels[val])\n",
        "    if val == 0:\n",
        "      break\n",
        "  \n",
        "  return(ordered_route)"
      ],
      "metadata": {
        "id": "C1rIgRkRGi2g"
      },
      "execution_count": null,
      "outputs": []
    },
    {
      "cell_type": "code",
      "source": [
        "# use the function to find optimal route\n",
        "optimal_route = get_optimal_route(all_locations, variables)\n",
        "optimal_route"
      ],
      "metadata": {
        "id": "Ko9FQrZawVpb"
      },
      "execution_count": null,
      "outputs": []
    },
    {
      "cell_type": "code",
      "source": [
        "def visualize_optimal_route(all_locations, variables):\n",
        "  \"\"\" This function visualizes the optimal route \"\"\"\n",
        "  # get the corrsponding index in the original location matrix\n",
        "  orig_matrix_indices = [0 if i == 'origin' else len(all_locations)-1 if i == 'destination' else i for i in optimal_route]\n",
        "  optimal_node_paths = []\n",
        "\n",
        "  for i in range(len(optimal_route)-1):\n",
        "    # get the optimal path between two nodes in the ordered route list\n",
        "    optimal_node_paths.append(\n",
        "        nx.shortest_path(G, source=all_locations[orig_matrix_indices[i]], target=all_locations[orig_matrix_indices[i+1]], weight='time_minutes')\n",
        "    )\n",
        "\n",
        "  # plot map with optimal route\n",
        "  fig, ax = ox.plot_graph_routes(\n",
        "      G, \n",
        "      routes = optimal_node_paths,\n",
        "      node_color = colour_map, \n",
        "      node_size = node_size, \n",
        "      route_colors = 'yellow'\n",
        "      )\n",
        "\n",
        "# plot\n",
        "visualize_optimal_route(all_locations, variables)"
      ],
      "metadata": {
        "id": "NLSmNMH9HX6s"
      },
      "execution_count": null,
      "outputs": []
    },
    {
      "cell_type": "code",
      "source": [
        ""
      ],
      "metadata": {
        "id": "zKalvD9MHYIl"
      },
      "execution_count": null,
      "outputs": []
    },
    {
      "cell_type": "markdown",
      "source": [
        "#### Try it youself"
      ],
      "metadata": {
        "id": "W1fbTjKjcHdA"
      }
    },
    {
      "cell_type": "code",
      "source": [
        ""
      ],
      "metadata": {
        "id": "4LPuhTDlHYLj"
      },
      "execution_count": null,
      "outputs": []
    },
    {
      "cell_type": "code",
      "source": [
        "# 1. Assume the time limit is now 50 minutes without drop off time. How many locations can you deliver before going back to the warehouse?\n",
        "\n",
        "### PUT YOUR CODE HERE ###"
      ],
      "metadata": {
        "id": "S6pCpPXsJjMJ"
      },
      "execution_count": null,
      "outputs": []
    },
    {
      "cell_type": "code",
      "source": [
        "# 2. Assume the time limit is now 50 minutes with the drop off time vector as [15, 6, 32, 15, 11, 4, 8, 25, 7]. \n",
        "# How many locations can you deliver before going back to the warehouse?\n",
        "\n",
        "### PUT YOUR CODE HERE ###"
      ],
      "metadata": {
        "id": "Dhky6C1BhBLC"
      },
      "execution_count": null,
      "outputs": []
    },
    {
      "cell_type": "code",
      "source": [
        "# 3. Same as Q2, but assume the time limit is now 120 minutes. How many locations can you now deliver?\n",
        "\n",
        "### PUT YOUR CODE HERE ###"
      ],
      "metadata": {
        "id": "T167_zcX6v2A"
      },
      "execution_count": null,
      "outputs": []
    },
    {
      "cell_type": "markdown",
      "source": [
        "### Future Improvements\n",
        "What do you think can be the next steps for this project?"
      ],
      "metadata": {
        "id": "tz6t1Ha97VDN"
      }
    },
    {
      "cell_type": "code",
      "source": [
        ""
      ],
      "metadata": {
        "id": "OjiJDvWt7f03"
      },
      "execution_count": null,
      "outputs": []
    }
  ]
}