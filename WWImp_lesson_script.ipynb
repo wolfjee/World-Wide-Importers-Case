{
  "nbformat": 4,
  "nbformat_minor": 0,
  "metadata": {
    "colab": {
      "name": "Masterclass_lesson_script.ipynb",
      "provenance": [],
      "collapsed_sections": []
    },
    "kernelspec": {
      "name": "python3",
      "display_name": "Python 3"
    },
    "language_info": {
      "name": "python"
    }
  },
  "cells": [
    {
      "cell_type": "code",
      "metadata": {
        "id": "kvRbXTJ5Kp76"
      },
      "source": [
        "# Importing Packages\n",
        "import pandas as pd\n",
        "import numpy as np\n",
        "import matplotlib.pyplot as plt\n",
        "import seaborn as sns"
      ],
      "execution_count": null,
      "outputs": []
    },
    {
      "cell_type": "code",
      "metadata": {
        "id": "M163_knNLzQl"
      },
      "source": [
        "# Loading the data inside a pandad DataFrame we named df\n",
        "df = pd.read_csv(\"***.csv\")"
      ],
      "execution_count": null,
      "outputs": []
    },
    {
      "cell_type": "code",
      "metadata": {
        "id": "QkDAhch-UREe"
      },
      "source": [
        "# DataFrame information\n",
        "df.***()"
      ],
      "execution_count": null,
      "outputs": []
    },
    {
      "cell_type": "code",
      "metadata": {
        "id": "Xzpxo5-2kY93"
      },
      "source": [
        "# To select columns in pandas of a dataframe format:\n",
        "# DataFrameName[\"Selected Column\"]\n",
        "# Example only selecting \"t_min\" column:\n",
        "df[***]"
      ],
      "execution_count": null,
      "outputs": []
    },
    {
      "cell_type": "code",
      "metadata": {
        "id": "hX5znmTBUek0"
      },
      "source": [
        "# To select a column in a method\n",
        "# DataFrameName.MethodName([\"Selected Column\"])\n",
        "# Example Dropping columns we do not need using .drop() method:\n",
        "# axis = 1 makes sure we drop a column not a row\n",
        "# inplace = True makes sure we replace the original df with the new df with the dropped column\n",
        "df.drop([***], axis=1, inplace=True)"
      ],
      "execution_count": null,
      "outputs": []
    },
    {
      "cell_type": "code",
      "metadata": {
        "id": "Lz3fhMtsLbTP"
      },
      "source": [
        "# First 20 rows of DataFrame (Default is 5)\n",
        "df.head(***)"
      ],
      "execution_count": null,
      "outputs": []
    },
    {
      "cell_type": "code",
      "metadata": {
        "id": "37L9VsawLfXG"
      },
      "source": [
        "# Descriptives temp_transport column of DataFrame by selecting it and using \n",
        "# .describe() method\n",
        "df[***].describe()"
      ],
      "execution_count": null,
      "outputs": []
    },
    {
      "cell_type": "code",
      "metadata": {
        "id": "6S1uZaCgLos4"
      },
      "source": [
        "# Write the answer here: \"Time left when the cooler breaks at 0 degrees: ... min\"\n",
        "# Use .query() method and write down the query we need. Afterwords select the\n",
        "# correct column and use .iloc[0] to select the 1st value.\n",
        "cooler_alert_first_time = (df\n",
        "                           .query(\"*** == ***\")[\"***\"]\n",
        "                           .iloc[0])\n",
        "product_alert_first_time = (df\n",
        "                            .query(\"*** == ***\")[\"***\"]\n",
        "                            .iloc[0])\n",
        "print(\"Time left when the cooler breaks at 0 degrees: {} min\".format(***))"
      ],
      "execution_count": null,
      "outputs": []
    },
    {
      "cell_type": "code",
      "metadata": {
        "id": "GAUEDe1sMclR"
      },
      "source": [
        "# Example scatter plot in Matplotlib\n",
        "df.plot(kind='scatter',x='t_min', y='temp_transport')"
      ],
      "execution_count": null,
      "outputs": []
    },
    {
      "cell_type": "code",
      "metadata": {
        "id": "viq4IxwqMjZh"
      },
      "source": [
        "# Scatter plot in Seaborn \n",
        "plt.figure(figsize=(10,7))\n",
        "sns.scatterplot(data=***, x=***, y=***)\n",
        "\n",
        "plt.hlines(-17, xmin=***, xmax=2000, colors='g')\n",
        "plt.hlines(-2, xmin=***, xmax=2000, colors='r')"
      ],
      "execution_count": null,
      "outputs": []
    },
    {
      "cell_type": "code",
      "metadata": {
        "id": "zRdrKvBVfEBg"
      },
      "source": [
        "# Adding these to the top packages:\n",
        "# Please copy them and paste them in the 1st Cell of this notebook\n",
        "# After pasting them run the 1st cell again to load the packages\n",
        "from sklearn.linear_model import LinearRegression\n",
        "from sklearn.preprocessing import PolynomialFeatures  \n",
        "from sklearn.metrics import mean_squared_error"
      ],
      "execution_count": null,
      "outputs": []
    },
    {
      "cell_type": "code",
      "metadata": {
        "id": "4I2WTu3LfSi-"
      },
      "source": [
        "# reshape the data for input and output model.\n",
        "x = (df[***]\n",
        "     .to_numpy()\n",
        "     .reshape(-1, 1)\n",
        "     )\n",
        "y = (df[***]\n",
        "     .to_numpy()\n",
        "     .reshape(-1, 1)\n",
        "     )"
      ],
      "execution_count": null,
      "outputs": []
    },
    {
      "cell_type": "code",
      "metadata": {
        "id": "247Ms8N9fS4m"
      },
      "source": [
        "# Innitiate a Linear Regression and fit it ove our model\n",
        "# make a prediction with only using the time variable\n",
        "model_linear = LinearRegression()\n",
        "model_linear.fit(x, y)\n",
        "y_linear_pred = model_linear.predict(x)"
      ],
      "execution_count": null,
      "outputs": []
    },
    {
      "cell_type": "code",
      "metadata": {
        "id": "kopPtTAjfM7f"
      },
      "source": [
        "# Create a simple scatter plot (s=1 gives a smaller dot in the plot)\n",
        "# Also create a plot of the prediction that our model made\n",
        "plt.scatter(x, y, s=1)\n",
        "plt.plot(x, y_linear_pred, color='m')\n",
        "plt.show()"
      ],
      "execution_count": null,
      "outputs": []
    },
    {
      "cell_type": "code",
      "metadata": {
        "id": "CmQ8foLGfjFI"
      },
      "source": [
        "# Create polynomial features for a Polynomial Regression\n",
        "# Transform the x into x_poly\n",
        "polynomial_features = PolynomialFeatures(degree=***)\n",
        "x_poly = polynomial_features.fit_transform(x)"
      ],
      "execution_count": null,
      "outputs": []
    },
    {
      "cell_type": "code",
      "metadata": {
        "id": "nmCeAqdTfn2Y"
      },
      "source": [
        "# Initiate a new LinearRegression but now fit it with x_poly\n",
        "# Make a prediction with this new model\n",
        "model_poly = ***()\n",
        "model_poly.fit(***, y)\n",
        "y_poly_pred = ***.***(***)"
      ],
      "execution_count": null,
      "outputs": []
    },
    {
      "cell_type": "code",
      "metadata": {
        "id": "EuS35scjfrH-"
      },
      "source": [
        "# Create a simple scatter plot of the new model\n",
        "# Also create a plot of the prediction that our model made\n",
        "plt.scatter(***, ***, s=1)\n",
        "plt.plot(***, ***, color='m')\n",
        "plt.***()"
      ],
      "execution_count": null,
      "outputs": []
    },
    {
      "cell_type": "code",
      "metadata": {
        "id": "RuqbikicgEjv"
      },
      "source": [
        "# Find the index where the product_alert would go off and print the time\n",
        "max_time_idx = min(np.where(*** > ***)[0])\n",
        "time_prod_alert = x[max_time_idx][0]\n",
        "print(time_prod_alert)\n",
        "\n",
        "# Find the index where the cooler_alert would go off and print the time\n",
        "start_time_idx = max(np.where(*** <= ***)[0])\n",
        "time_cooler_alert = x[start_time_idx][0]\n",
        "print(time_cooler_alert)\n",
        "\n",
        "# Print out the time left \n",
        "print(\"Time left: {} min\".format(*** - ***))"
      ],
      "execution_count": null,
      "outputs": []
    },
    {
      "cell_type": "code",
      "metadata": {
        "id": "pq77IVsuj6Yy"
      },
      "source": [
        "# Example function:\n",
        "def function_name(variable_1,variable_2):\n",
        "\n",
        "  \"\"\"\n",
        "  This function adds variable_1 and variable_2 together\n",
        "\n",
        "  Parameters:\n",
        "    Numeric numbers variable_1 and variable_2\n",
        "\n",
        "  Returns:\n",
        "    variable_1 added to variable_2\n",
        "  \"\"\"\n",
        "  # create the function while using the variables \n",
        "  output = variable_1 + variable_2\n",
        "\n",
        "  # use a return statement to output the function\n",
        "  # in this case we print an equasion\n",
        "  # the return statement also closes the function\n",
        "  return print(\"{} + {} = {}\".format(variable_1,variable_2,output))\n",
        "\n",
        "# After creating the function we can use it like this:\n",
        "function_name(5,3)"
      ],
      "execution_count": null,
      "outputs": []
    },
    {
      "cell_type": "code",
      "metadata": {
        "id": "mzRPZ56dgexn"
      },
      "source": [
        "# Create a function to do all these previous steps for all outside temp datasets\n",
        "def calculate_time_left(datasets):\n",
        "  \"\"\"\n",
        "  This function creates a dictionary of descrete predicted outcomes of how long \n",
        "  it takes a truck cooler to heat up before products go bad on 7 different \n",
        "  outside temperature datasets: 0, 5, 10, 15, 20, 25, 30 degrees.\n",
        "  This dictionary could be used to predict continuous values of outside\n",
        "  temperatures for the IoT device.\n",
        "\n",
        "  Parameters:\n",
        "    Temperature Datasets: 0, 5, 10, 15, 20, 25, 30 degrees. \n",
        "    With the columns: temp_outside, t_min, temp_transport\n",
        "\n",
        "  Returns:\n",
        "    Dictionary of discrete predicted outcomes of our model in time for different degrees.\n",
        "  \"\"\"\n",
        "  times_left = {}\n",
        "  for dataset in datasets:\n",
        "      df = pd.read_csv(dataset)\n",
        "      outside_temp = df[***][0]\n",
        "\n",
        "      # Reshape model\n",
        "      # Polynomial features\n",
        "      # Linear regression\n",
        "      # Prediction\n",
        "\n",
        "      max_time_idx = min(np.where(*** > ***)[0])\n",
        "      start_time_idx = max(np.where(*** <= ***)[0])\n",
        "      times_left[outside_temp] = (x[max_time_idx] - x[start_time_idx])[0]\n",
        "  return times_left"
      ],
      "execution_count": null,
      "outputs": []
    },
    {
      "cell_type": "code",
      "metadata": {
        "id": "WZdUT9r3hsFn"
      },
      "source": [
        "# Load all the dataset names into a list\n",
        "temps = np.linspace(0,30,7,dtype=int)\n",
        "datasets = [\"test_model_\"+str(x)+\".csv\" for x in temps]\n",
        "# Use the new function to create the dictionary\n",
        "cal_time_left = calculate_time_left(datasets)"
      ],
      "execution_count": null,
      "outputs": []
    },
    {
      "cell_type": "code",
      "metadata": {
        "id": "jlisRxWnhxWX"
      },
      "source": [
        "# Create the new DataFrame for the final model\n",
        "final_df = pd.DataFrame(list(cal_time_left.items()),\n",
        "                        columns = [\"temp_outside\",\"time_left\"]\n",
        "                        ) \n",
        "final_df"
      ],
      "execution_count": null,
      "outputs": []
    },
    {
      "cell_type": "code",
      "metadata": {
        "id": "boBpp1-0h50G"
      },
      "source": [
        "# Reshape new data for model\n",
        "***"
      ],
      "execution_count": null,
      "outputs": []
    },
    {
      "cell_type": "code",
      "metadata": {
        "id": "CTw9YtNOh99v"
      },
      "source": [
        "# Initiate model and predict using Linear regression\n",
        "***"
      ],
      "execution_count": null,
      "outputs": []
    },
    {
      "cell_type": "code",
      "metadata": {
        "id": "MnPjXkbgiCcV"
      },
      "source": [
        "# Plot predictions in a scatter plot with the linear prediction\n",
        "***"
      ],
      "execution_count": null,
      "outputs": []
    },
    {
      "cell_type": "code",
      "metadata": {
        "id": "ijFhBoYkiNy1"
      },
      "source": [
        "# Initiate model with polynomial features\n",
        "***"
      ],
      "execution_count": null,
      "outputs": []
    },
    {
      "cell_type": "code",
      "metadata": {
        "id": "7ATZVMoviX9E"
      },
      "source": [
        "# Plot the predictions of the polynomial features model\n",
        "***"
      ],
      "execution_count": null,
      "outputs": []
    },
    {
      "cell_type": "code",
      "metadata": {
        "id": "oWigPzv7iiF-"
      },
      "source": [
        "# Compare MSE\n",
        "mse_linear = mean_squared_error(y, ***)\n",
        "mse_poly = mean_squared_error(y, ***)\n",
        "\n",
        "print(\"MSE of linear model:\\t {} \\nMSE of polynomial model: {}\"\n",
        "      .format(mse_linear, \n",
        "              mse_poly\n",
        "              )\n",
        "      )"
      ],
      "execution_count": null,
      "outputs": []
    },
    {
      "cell_type": "code",
      "metadata": {
        "id": "Iv7bw2lMik0J"
      },
      "source": [
        "# Compare R-Squared\n",
        "r2_linear = model_linear.score(x, y)\n",
        "r2_poly = model_linear.score(***, y)\n",
        "\n",
        "print(\"Rsquared of linear model: \\t{}\\nRsquared of polynomial model:\\t{}\"\n",
        "      .format(r2_linear, \n",
        "              r2_poly\n",
        "              )\n",
        "      )"
      ],
      "execution_count": null,
      "outputs": []
    }
  ]
}
